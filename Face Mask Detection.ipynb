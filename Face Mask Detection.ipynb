{
 "cells": [
  {
   "cell_type": "markdown",
   "id": "4cc1bb98",
   "metadata": {},
   "source": [
    "# THE SPARK FOUNDATION #GRIPJUNE23"
   ]
  },
  {
   "cell_type": "markdown",
   "id": "fe03984b",
   "metadata": {},
   "source": [
    "# Detection of Face mask-Task 4 (Computer vision and IOT)"
   ]
  },
  {
   "cell_type": "code",
   "execution_count": null,
   "id": "24c22ceb",
   "metadata": {},
   "outputs": [],
   "source": [
    "from tensorflow.keras.preprocessing.image import ImageDataGenerator\n",
    "from tensorflow.keras.applications import MobileNetV2\n",
    "from tensorflow.keras.layers import AveragePooling2D\n",
    "from tensorflow.keras.layers import Dropout\n",
    "from tensorflow.keras.layers import Dense\n",
    "from tensorflow.keras.layers import Input\n",
    "from tensorflow.keras.models import Model\n",
    "from tensorflow.keras.optimizers import Adam\n",
    "from tensorflow.keras.applications.mobilenet_v2 import preprocess_input\n",
    "from tensorflow.keras.preprocessing.image import img_to_array\n",
    "from tensorflow.keras.preprocessing.image import load_img\n",
    "from tensorflow.keras.utils import to_categorical"
   ]
  },
  {
   "cell_type": "code",
   "execution_count": null,
   "id": "43185a96",
   "metadata": {},
   "outputs": [],
   "source": [
    "from sklearn.preprocessing import LabelBinarizer\n",
    "from sklearn.model_selection import train_test_split\n",
    "from sklearn.metrics import classification_report"
   ]
  },
  {
   "cell_type": "code",
   "execution_count": null,
   "id": "43e070dd",
   "metadata": {},
   "outputs": [],
   "source": [
    "!pip install imutils"
   ]
  },
  {
   "cell_type": "code",
   "execution_count": null,
   "id": "715f0083",
   "metadata": {},
   "outputs": [],
   "source": [
    "from imutils import paths\n",
    "import matplotlib.pyplot as plt\n",
    "import numpy as np\n",
    "import os"
   ]
  },
  {
   "cell_type": "markdown",
   "id": "4a6d76f7",
   "metadata": {},
   "source": [
    "## Initial Hyperparameters"
   ]
  },
  {
   "cell_type": "code",
   "execution_count": null,
   "id": "2d9dfee0",
   "metadata": {},
   "outputs": [],
   "source": [
    "init_learning_rate = 1e-4\n",
    "epochs = 20\n",
    "batch_size = 32"
   ]
  },
  {
   "cell_type": "code",
   "execution_count": null,
   "id": "f773cd64",
   "metadata": {},
   "outputs": [],
   "source": [
    "directory = r\"D:\\FaceMaskDetection-main\\FaceMaskDetection-main\\dataset\"\n",
    "categories = [\"with_mask\",\"without_mask\"]"
   ]
  },
  {
   "cell_type": "code",
   "execution_count": null,
   "id": "c97beddb",
   "metadata": {},
   "outputs": [],
   "source": [
    "data =[]\n",
    "labels =[]\n",
    "for category in categories:\n",
    "    path = os.path.join(directory,category)\n",
    "    for img in os.listdir(path):\n",
    "        img_path = os.path.join(path,img)\n",
    "        image = load_img(img_path,target_size=(224,224))\n",
    "        image = img_to_array(image)\n",
    "        image = preprocess_input(image)\n",
    "        \n",
    "        data.append(image)\n",
    "        labels.append(category)"
   ]
  },
  {
   "cell_type": "markdown",
   "id": "d7b5eda4",
   "metadata": {},
   "source": [
    "## one hot encoding the labels"
   ]
  },
  {
   "cell_type": "code",
   "execution_count": null,
   "id": "7fa98f69",
   "metadata": {},
   "outputs": [],
   "source": [
    "lb = LabelBinarizer()\n",
    "labels = lb.fit_transform(labels)\n",
    "labels = to_categorical(labels)"
   ]
  },
  {
   "cell_type": "code",
   "execution_count": null,
   "id": "02d009fe",
   "metadata": {},
   "outputs": [],
   "source": [
    "data = np.array(data,dtype=\"float32\")"
   ]
  },
  {
   "cell_type": "code",
   "execution_count": null,
   "id": "31fdcce3",
   "metadata": {},
   "outputs": [],
   "source": [
    "labels = np.array(labels)"
   ]
  },
  {
   "cell_type": "code",
   "execution_count": null,
   "id": "2354685f",
   "metadata": {},
   "outputs": [],
   "source": [
    "x_train,x_test,y_train,y_test = train_test_split(data,labels,test_size=0.2,stratify=labels,random_state=42)"
   ]
  },
  {
   "cell_type": "markdown",
   "id": "591951f9",
   "metadata": {},
   "source": [
    "## constructing image generation for augmentation"
   ]
  },
  {
   "cell_type": "code",
   "execution_count": null,
   "id": "e66a74f1",
   "metadata": {},
   "outputs": [],
   "source": [
    "aug = ImageDataGenerator(\n",
    "    rotation_range=20,\n",
    "    zoom_range=0.15,\n",
    "    width_shift_range =0.2,\n",
    "    height_shift_range = 0.2,\n",
    "    shear_range=0.15,\n",
    "    horizontal_flip = True,\n",
    "    fill_mode=\"nearest\"\n",
    ")"
   ]
  },
  {
   "cell_type": "markdown",
   "id": "4b95fdd5",
   "metadata": {},
   "source": [
    "## loading the MobileNetV2 network"
   ]
  },
  {
   "cell_type": "code",
   "execution_count": null,
   "id": "e0fb8a34",
   "metadata": {},
   "outputs": [],
   "source": [
    "basemodel = MobileNetV2(weights=\"imagenet\",include_top=False,input_tensor=Input(shape=(224,224,3)))# 3 for rgb format"
   ]
  },
  {
   "cell_type": "code",
   "execution_count": null,
   "id": "b3b4300e",
   "metadata": {},
   "outputs": [],
   "source": [
    "# Top of base model will be head of the model\n",
    "from tensorflow.keras.layers import Flatten\n",
    "headmodel = basemodel.output\n",
    "headmodel = AveragePooling2D(pool_size=(7,7))(headmodel)\n",
    "headmodel = Flatten(name= \"flatten\")(headmodel)\n",
    "headmodel = Dense(128,activation=\"relu\")(headmodel)\n",
    "headmodel = Dropout(0.5)(headmodel)\n",
    "headmodel = Dense(2,activation=\"softmax\")(headmodel)"
   ]
  },
  {
   "cell_type": "code",
   "execution_count": null,
   "id": "f3a5956c",
   "metadata": {},
   "outputs": [],
   "source": [
    "model = Model(inputs=basemodel.input,outputs=headmodel)"
   ]
  },
  {
   "cell_type": "code",
   "execution_count": null,
   "id": "2c71a8ce",
   "metadata": {},
   "outputs": [],
   "source": [
    "# Freezing the base layers of network, the weights of these layers will not be updated during backpropagation, whereas head wights will change\n",
    "for layer in basemodel.layers:\n",
    "    layer.trainable = False"
   ]
  },
  {
   "cell_type": "code",
   "execution_count": null,
   "id": "fba23fcf",
   "metadata": {},
   "outputs": [],
   "source": [
    "#compile the model\n",
    "#opt = Adam(learning_rate=init_learning_rate,leg=init_learning_rate/epochs)\n",
    "model.compile(loss=\"binary_crossentropy\",optimizer='adam',metrics=[\"accuracy\"])"
   ]
  },
  {
   "cell_type": "code",
   "execution_count": null,
   "id": "fa368c33",
   "metadata": {},
   "outputs": [],
   "source": [
    "# training head of network\n",
    "H = model.fit(\n",
    "    aug.flow(x_train,y_train,batch_size=batch_size),\n",
    "    steps_per_epoch=len(x_train) //batch_size,\n",
    "    validation_data = (x_test,y_test),\n",
    "    validation_steps=len(x_test)//batch_size,\n",
    "    epochs=epochs\n",
    ")"
   ]
  },
  {
   "cell_type": "code",
   "execution_count": null,
   "id": "42c50e85",
   "metadata": {},
   "outputs": [],
   "source": [
    "predictions = model.predict(x_test,batch_size=batch_size)"
   ]
  },
  {
   "cell_type": "code",
   "execution_count": null,
   "id": "f40f14d4",
   "metadata": {},
   "outputs": [],
   "source": [
    "predictions = np.argmax(predictions,axis=1)"
   ]
  },
  {
   "cell_type": "code",
   "execution_count": null,
   "id": "ac8da29c",
   "metadata": {},
   "outputs": [],
   "source": [
    "predictions"
   ]
  },
  {
   "cell_type": "code",
   "execution_count": null,
   "id": "ff835786",
   "metadata": {},
   "outputs": [],
   "source": [
    "# classification report\n",
    "print(classification_report(y_test.argmax(axis=1),predictions,target_names=lb.classes_))"
   ]
  },
  {
   "cell_type": "code",
   "execution_count": null,
   "id": "33428376",
   "metadata": {},
   "outputs": [],
   "source": [
    "model.save(\"Mask_detector.model\",save_format=\"h5\")"
   ]
  },
  {
   "cell_type": "code",
   "execution_count": null,
   "id": "84fb88d2",
   "metadata": {},
   "outputs": [],
   "source": [
    "# Accuracy of the model\n",
    "n = epochs\n",
    "plt.figure(figsize=(5,5))\n",
    "plt.plot(np.arange(0,n),H.history[\"loss\"],label=\"train_loss\")\n",
    "plt.plot(np.arange(0,n),H.history[\"val_loss\"],label=\"val_loss\")\n",
    "plt.plot(np.arange(0,n),H.history[\"accuracy\"],label=\"train_accuracy\")\n",
    "plt.plot(np.arange(0,n),H.history[\"val_accuracy\"],label=\"val_accuracy\")\n",
    "plt.title(\"Training Loss and Accuracy\")\n",
    "plt.xlabel(\"No. of epochs\")\n",
    "plt.ylabel(\"Loss/accuracy\")\n",
    "plt.legend(loc=\"lower left\")\n",
    "plt.show()"
   ]
  },
  {
   "cell_type": "markdown",
   "id": "951999b1",
   "metadata": {},
   "source": [
    "### Video Streaming"
   ]
  },
  {
   "cell_type": "code",
   "execution_count": null,
   "id": "95402383",
   "metadata": {},
   "outputs": [],
   "source": [
    "from tensorflow.keras.applications.mobilenet_v2 import preprocess_input\n",
    "from tensorflow.keras.preprocessing.image import img_to_array\n",
    "from tensorflow.keras.models import load_model\n",
    "from imutils.video import VideoStream\n",
    "import numpy as np\n",
    "import imutils\n",
    "import time\n",
    "import cv2\n",
    "import os"
   ]
  },
  {
   "cell_type": "code",
   "execution_count": null,
   "id": "c44f3ded",
   "metadata": {},
   "outputs": [],
   "source": [
    "# import the necessary packages\n",
    "from tensorflow.keras.applications.mobilenet_v2 import preprocess_input\n",
    "from tensorflow.keras.preprocessing.image import img_to_array\n",
    "from tensorflow.keras.models import load_model\n",
    "from imutils.video import VideoStream\n",
    "import numpy as np\n",
    "import imutils\n",
    "import time\n",
    "import cv2\n",
    "import os\n",
    "\n",
    "def detect_and_predict_mask(frame, faceNet, maskNet):\n",
    "# grab the dimensions of the frame and then construct a blob\n",
    "# from it\n",
    "    (h, w) = frame.shape[:2]\n",
    "    blob = cv2.dnn.blobFromImage(frame, 1.0, (224, 224),\n",
    "        (104.0, 177.0, 123.0))\n",
    "\n",
    "# pass the blob through the network and obtain the face detections\n",
    "    faceNet.setInput(blob)\n",
    "    detections = faceNet.forward()\n",
    "    print(detections.shape)\n",
    "\n",
    "# initialize our list of faces, their corresponding locations,\n",
    "# and the list of predictions from our face mask network\n",
    "    faces = []\n",
    "    locs = []\n",
    "    preds = []\n",
    "\n",
    "# loop over the detections\n",
    "    for i in range(0, detections.shape[2]):\n",
    "    # extract the confidence (i.e., probability) associated with\n",
    "    # the detection\n",
    "        confidence = detections[0, 0, i, 2]\n",
    "\n",
    "# filter out weak detections by ensuring the confidence is\n",
    "# greater than the minimum confidence\n",
    "        if confidence > 0.5:\n",
    "# compute the (x, y)-coordinates of the bounding box for\n",
    "# the object\n",
    "            box = detections[0, 0, i, 3:7] * np.array([w, h, w, h])\n",
    "            (startX, startY, endX, endY) = box.astype(\"int\")\n",
    "# ensure the bounding boxes fall within the dimensions of\n",
    "# the frame\n",
    "            (startX, startY) = (max(0, startX), max(0, startY))\n",
    "            (endX, endY) = (min(w - 1, endX), min(h - 1, endY))\n",
    "           \n",
    "          \n",
    "            \n",
    "            \n",
    "      \n",
    "           \n",
    "\n",
    "# extract the face ROI, convert it from BGR to RGB channel\n",
    "# ordering, resize it to 224x224, and preprocess it\n",
    "            face = frame[startY:endY, startX:endX]\n",
    "            face = cv2.cvtColor(face, cv2.COLOR_BGR2RGB)\n",
    "            face = cv2.resize(face, (224, 224))\n",
    "            face = img_to_array(face)\n",
    "            face = preprocess_input(face)\n",
    "# add the face and bounding boxes to their respective\n",
    "# lists\n",
    "            faces.append(face)\n",
    "            locs.append((startX, startY, endX, endY))\n",
    "            \n",
    "            \n",
    "            \n",
    "\n",
    "# only make a predictions if at least one face was detected\n",
    "    if len(faces) > 0:\n",
    "# for faster inference we'll make batch predictions on *all*\n",
    "# faces at the same time rather than one-by-one predictions\n",
    "# in the above `for` loop\n",
    "        faces = np.array(faces, dtype=\"float32\")\n",
    "        preds = maskNet.predict(faces, batch_size=32)\n",
    "# return a 2-tuple of the face locations and their corresponding\n",
    "# locations\n",
    "    return (locs, preds)\n",
    "\n",
    "# load our serialized face detector model from disk\n",
    "prototxtPath = r\"D:\\FaceMaskDetection-main\\FaceMaskDetection-main\\face_detector\\deploy.prototxt\"\n",
    "weightsPath = r\"D:\\FaceMaskDetection-main\\FaceMaskDetection-main\\face_detector\\res10_300x300_ssd_iter_140000.caffemodel\"\n",
    "faceNet = cv2.dnn.readNet(prototxtPath, weightsPath)\n",
    "\n",
    "# load the face mask detector model from disk\n",
    "maskNet = load_model(\"Mask_detector.model\")\n",
    "\n",
    "# initialize the video stream\n",
    "print(\"[INFO] starting video stream...\")\n",
    "vs = VideoStream(src=0).start()\n",
    "\n",
    "# loop over the frames from the video stream\n",
    "while True:\n",
    "    # grab the frame from the threaded video stream and resize it\n",
    "    # to have a maximum width of 400 pixels\n",
    "    frame = vs.read()\n",
    "    frame = imutils.resize(frame, width=400)\n",
    "\n",
    "    # detect faces in the frame and determine if they are wearing a\n",
    "    # face mask or not\n",
    "    (locs, preds) = detect_and_predict_mask(frame, faceNet, maskNet)\n",
    "\n",
    "    # loop over the detected face locations and their corresponding\n",
    "    # locations\n",
    "    for (box, pred) in zip(locs, preds):\n",
    "# unpack the bounding box and predictions\n",
    "            (startX, startY, endX, endY) = box\n",
    "            (mask, withoutMask) = pred\n",
    "# determine the class label and color we'll use to draw\n",
    "# the bounding box and text\n",
    "            label = \"Mask\" if mask > withoutMask else \"No Mask\"\n",
    "            color = (0, 255, 0) if label == \"Mask\" else (0, 0, 255)\n",
    "\n",
    "# include the probability in the label\n",
    "            label = \"{}: {:.2f}%\".format(label, max(mask, withoutMask) * 100)\n",
    "# display the label and bounding box rectangle on the output\n",
    "# frame\n",
    "            cv2.putText(frame, label, (startX, startY - 10),\n",
    "            cv2.FONT_HERSHEY_SIMPLEX, 0.45, color, 2)\n",
    "            cv2.rectangle(frame, (startX, startY), (endX, endY), color, 2)\n",
    "# show the output frame\n",
    "    cv2.imshow(\"Frame\", frame)\n",
    "    key = cv2.waitKey(1) & 0xFF\n",
    "\n",
    "# if the `q` key was pressed, break from the loop\n",
    "    if key == ord(\"q\"):\n",
    "        break\n",
    "\n",
    "# do a bit of cleanup\n",
    "cv2.destroyAllWindows()\n",
    "vs.stop()"
   ]
  },
  {
   "cell_type": "code",
   "execution_count": null,
   "id": "151b7f23",
   "metadata": {},
   "outputs": [],
   "source": []
  }
 ],
 "metadata": {
  "kernelspec": {
   "display_name": "Python 3 (ipykernel)",
   "language": "python",
   "name": "python3"
  },
  "language_info": {
   "codemirror_mode": {
    "name": "ipython",
    "version": 3
   },
   "file_extension": ".py",
   "mimetype": "text/x-python",
   "name": "python",
   "nbconvert_exporter": "python",
   "pygments_lexer": "ipython3",
   "version": "3.10.5"
  }
 },
 "nbformat": 4,
 "nbformat_minor": 5
}
